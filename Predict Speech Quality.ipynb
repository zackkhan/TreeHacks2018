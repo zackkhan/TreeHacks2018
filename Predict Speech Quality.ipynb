{
 "cells": [
  {
   "cell_type": "code",
   "execution_count": 70,
   "metadata": {},
   "outputs": [],
   "source": [
    "import urllib.request\n",
    "import json"
   ]
  },
  {
   "cell_type": "code",
   "execution_count": 91,
   "metadata": {},
   "outputs": [],
   "source": [
    "data = {\n",
    "        \"Inputs\": {\n",
    "            \"input1\": [\n",
    "            {\n",
    "                'Average Volume': 0.40,   \n",
    "                'Average Sentiment': 0.83,   \n",
    "                'Average Yaw': 1.05,   \n",
    "                'Average Roll': 0.22,   \n",
    "                'Average Pitch': 0.90,   \n",
    "                'Average Neutral': 0.51,   \n",
    "                'Average Happiness': 0.47,   \n",
    "                'Average Sadness': 0.01,   \n",
    "                'Label': 0,  \n",
    "            }\n",
    "            ],\n",
    "        },\n",
    "    \"GlobalParameters\":  {\n",
    "    }\n",
    "}\n",
    "\n",
    "body = str.encode(json.dumps(data))"
   ]
  },
  {
   "cell_type": "code",
   "execution_count": 92,
   "metadata": {},
   "outputs": [],
   "source": [
    "url = 'https://uswestcentral.services.azureml.net/workspaces/be7540b1ba2e43b0aaf10b2237b7b077/services/0d7ed26522a2477f9af42ec6b9483d06/execute?api-version=2.0&format=swagger'\n",
    "api_key = 'uE/OZS1FzF4izq3a1eNP6nLLyyjxSxVxxQ74WVncPpVHDyDfg4EmGEHLwxBujyWO33XzMrMrXatwsKVvoYnEPg==' # Replace this with the API key for the web service\n",
    "headers = {'Content-Type':'application/json', 'Authorization':('Bearer '+ api_key)}"
   ]
  },
  {
   "cell_type": "code",
   "execution_count": 93,
   "metadata": {},
   "outputs": [
    {
     "name": "stdout",
     "output_type": "stream",
     "text": [
      "Great Speech!\n"
     ]
    }
   ],
   "source": [
    "req = urllib.request.Request(url, body, headers)\n",
    "\n",
    "try:\n",
    "    response = urllib.request.urlopen(req)\n",
    "    result = response.read()\n",
    "    dict = json.loads(result)\n",
    "    for key in dict[\"Results\"].keys():\n",
    "        for val in dict[\"Results\"][key]:\n",
    "            if int(val[\"Scored Labels\"]) == 1:\n",
    "                print('Great Speech!')\n",
    "            else:\n",
    "                print('Bad Speech!')\n",
    "except urllib.error.HTTPError as error:\n",
    "    print(\"The request failed with status code: \" + str(error.code))\n",
    "    print(error.info())\n",
    "    print(json.loads(error.read().decode(\"utf8\", 'ignore')))"
   ]
  },
  {
   "cell_type": "code",
   "execution_count": null,
   "metadata": {},
   "outputs": [],
   "source": []
  }
 ],
 "metadata": {
  "kernelspec": {
   "display_name": "Python 3",
   "language": "python",
   "name": "python3"
  },
  "language_info": {
   "codemirror_mode": {
    "name": "ipython",
    "version": 3
   },
   "file_extension": ".py",
   "mimetype": "text/x-python",
   "name": "python",
   "nbconvert_exporter": "python",
   "pygments_lexer": "ipython3",
   "version": "3.6.4"
  }
 },
 "nbformat": 4,
 "nbformat_minor": 2
}
