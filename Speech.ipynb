{
 "cells": [
  {
   "cell_type": "code",
   "execution_count": 1,
   "metadata": {},
   "outputs": [],
   "source": [
    "%matplotlib inline"
   ]
  },
  {
   "cell_type": "code",
   "execution_count": 2,
   "metadata": {},
   "outputs": [],
   "source": [
    "import matplotlib.pyplot as plt\n",
    "import numpy as np\n",
    "import requests\n",
    "import speech_recognition as sr\n",
    "from io import BytesIO\n",
    "from matplotlib import patches\n",
    "from os import path\n",
    "from PIL import Image\n",
    "from pprint import pprint\n",
    "from IPython.display import HTML"
   ]
  },
  {
   "cell_type": "code",
   "execution_count": 3,
   "metadata": {},
   "outputs": [],
   "source": [
    "class Speech:\n",
    "    def emotions_from_image(self, image_path):\n",
    "        headers = {\n",
    "            'Ocp-Apim-Subscription-Key': self.kEMOTION_KEY,\n",
    "            'Content-type': 'application/octet-stream'\n",
    "        }\n",
    "        params = {\n",
    "            'returnFaceId': 'true',\n",
    "            'returnFaceLandmarks': 'false',\n",
    "            'returnFaceAttributes': 'headPose,emotion',\n",
    "        }\n",
    "        with open(image_path, 'rb') as f:\n",
    "            img_data = f.read()\n",
    "        response = requests.post(self.kEMOTION_URL, params=params, headers=headers, data=img_data)\n",
    "        faces = response.json()\n",
    "        fr = faces[0][\"faceRectangle\"]\n",
    "        fa = faces[0][\"faceAttributes\"]\n",
    "        headPose = fa[\"headPose\"]\n",
    "        emotions = fa[\"emotion\"]\n",
    "        emotion = max(emotions, key=lambda key: emotions[key])\n",
    "        return emotion, headPose\n",
    "    \n",
    "    \n",
    "    def speech_to_text(self, file_path):\n",
    "        audio_file = path.join(path.dirname(path.realpath('__file__')), file_path)\n",
    "        r = sr.Recognizer()\n",
    "        with sr.AudioFile(file_path) as source:\n",
    "            audio = r.record(source)\n",
    "        try:\n",
    "            raw_text = r.recognize_bing(audio, key=self.kSPEECH_TO_TEXT_KEY)\n",
    "            document = {'documents' : [\n",
    "              {'id': '1', 'language': 'en', 'text': raw_text}\n",
    "            ]}\n",
    "            return document\n",
    "        except sr.UnknownValueError:\n",
    "            return(\"Microsoft Bing Voice Recognition could not understand audio\")\n",
    "        except sr.RequestError as e:\n",
    "            return(\"Could not request results from Microsoft Bing Voice Recognition service; {0}\".format(e))\n",
    "\n",
    "\n",
    "    def extract_sentiment(self, text):\n",
    "        headers   = {\"Ocp-Apim-Subscription-Key\": self.kTEXT_ANALYSIS_KEY}\n",
    "        response  = requests.post(self.kSENTIMENT_URL, headers=headers, json=text)\n",
    "        sentiments = response.json()\n",
    "        return sentiments['documents'][0]['score']\n",
    "\n",
    "\n",
    "    def extract_keywords(self, text):\n",
    "        headers   = {\"Ocp-Apim-Subscription-Key\": self.kTEXT_ANALYSIS_KEY}\n",
    "        response  = requests.post(self.kKEY_PHRASE_URL, headers=headers, json=text)\n",
    "        key_phrases = response.json()\n",
    "        return key_phrases['documents'][0]['keyPhrases']\n",
    "\n",
    "\n",
    "    def get_search_results(self, search_term):\n",
    "        headers = {\"Ocp-Apim-Subscription-Key\" : self.kSEARCH_KEY}\n",
    "        params  = {\"q\": search_term, \"textDecorations\":True, \"textFormat\":\"HTML\"}\n",
    "        response = requests.get(self.kSEARCH_URL, headers=headers, params=params)\n",
    "        response.raise_for_status()\n",
    "        search_results = response.json()\n",
    "        rows = \"\\n\".join([\"\"\"<tr>\n",
    "                           <td><a href=\\\"{0}\\\">{1}</a></td>\n",
    "                           <td>{2}</td>\n",
    "                         </tr>\"\"\".format(v[\"url\"],v[\"name\"],v[\"snippet\"]) for v in search_results[\"webPages\"][\"value\"]])\n",
    "        return HTML(\"<table>{0}</table>\".format(rows))\n",
    "\n",
    "    \n",
    "    def __init__(self):\n",
    "        # Face API\n",
    "        self.kEMOTION_KEY = \"34162b79f80a44f58c6629a083929c15\"\n",
    "        self.kEMOTION_URL = 'https://westus.api.cognitive.microsoft.com/face/v1.0/detect'\n",
    "        # Speech to Text API\n",
    "        self.kSPEECH_TO_TEXT_KEY = \"2ed41467970e4791bec9a48388bb416e\"\n",
    "        # Text Analysis API\n",
    "        self.kTEXT_ANALYSIS_KEY = \"e552bd5890934ed595dbf8d7fd05816f\"\n",
    "        text_analytics_base_url = \"https://westus.api.cognitive.microsoft.com/text/analytics/v2.0/\"\n",
    "        self.kSENTIMENT_URL = text_analytics_base_url + \"sentiment\"\n",
    "        self.kKEY_PHRASE_URL = text_analytics_base_url + \"keyPhrases\"\n",
    "        # Bing Web API\n",
    "        self.kSEARCH_KEY = \"9db3ddee989743f48b738680d30c5bab\"\n",
    "        self.kSEARCH_URL = \"https://api.cognitive.microsoft.com/bing/v7.0/search/\""
   ]
  },
  {
   "cell_type": "code",
   "execution_count": 4,
   "metadata": {},
   "outputs": [
    {
     "name": "stdout",
     "output_type": "stream",
     "text": [
      "happiness\n",
      "{'pitch': 0.0, 'roll': -0.2, 'yaw': -0.8}\n"
     ]
    }
   ],
   "source": [
    "speech = Speech()\n",
    "emotion, headPose = speech.emotions_from_image(\"main002.jpg\")\n",
    "print(emotion)\n",
    "print(headPose)"
   ]
  },
  {
   "cell_type": "code",
   "execution_count": 5,
   "metadata": {},
   "outputs": [
    {
     "name": "stdout",
     "output_type": "stream",
     "text": [
      "{'documents': [{'id': '1', 'language': 'en', 'text': 'Every word and phrase he speaks is true he put his last cartridge into the gun and fired they took their kids from the public school drive the screws straight into the would keep the hatch tight in the watch constant several that wine with a quick snip of the knife paper will dry out when wet slide the catch back and open the desk help the week to preserve their strength they selling smile get you friends.'}]}\n"
     ]
    }
   ],
   "source": [
    "text = speech.speech_to_text(file_path='sample.wav')\n",
    "print(text)"
   ]
  },
  {
   "cell_type": "code",
   "execution_count": 6,
   "metadata": {},
   "outputs": [
    {
     "name": "stdout",
     "output_type": "stream",
     "text": [
      "0.8571277856826782\n"
     ]
    }
   ],
   "source": [
    "sentiment = speech.extract_sentiment(text)\n",
    "print(sentiment)"
   ]
  },
  {
   "cell_type": "code",
   "execution_count": 7,
   "metadata": {},
   "outputs": [
    {
     "name": "stdout",
     "output_type": "stream",
     "text": [
      "['watch constant', 'knife paper', 'quick snip', 'wine', 'wet slide', 'strength', 'kids', 'public school', 'catch', 'hatch tight', 'word', 'phrase', 'smile', 'friends', 'cartridge', 'week']\n"
     ]
    }
   ],
   "source": [
    "keywords = speech.extract_keywords(text)\n",
    "print(keywords)"
   ]
  },
  {
   "cell_type": "code",
   "execution_count": 8,
   "metadata": {},
   "outputs": [
    {
     "data": {
      "text/html": [
       "<table><tr>\n",
       "                           <td><a href=\"https://www.wine.com/\"><b>Wine.com</b> - Official Site</a></td>\n",
       "                           <td>Shop the world&#39;s largest wine store with thousands of domestic and imported wines delivered right to your door. Chat online with wine experts 7 days a week.</td>\n",
       "                         </tr>\n",
       "<tr>\n",
       "                           <td><a href=\"https://en.wikipedia.org/wiki/Wine\">Wine - Wikipedia</a></td>\n",
       "                           <td>Wine (from Latin vinum) is an alcoholic beverage made from grapes, generally Vitis vinifera, fermented without the addition of sugars, acids, enzymes, water, or other ...</td>\n",
       "                         </tr>\n",
       "<tr>\n",
       "                           <td><a href=\"https://www.winehq.org/\"><b>Wine</b> - Official Site</a></td>\n",
       "                           <td>Wine (originally an acronym for &quot;Wine Is Not an Emulator&quot;) is a compatibility layer capable of running Windows applications on several POSIX-compliant operating ...</td>\n",
       "                         </tr>\n",
       "<tr>\n",
       "                           <td><a href=\"http://www.totalwine.com/\"><b>Total Wine &amp; More</b> - Official Site</a></td>\n",
       "                           <td>Over 8,000 wines, 3,000 spirits &amp; 2,500 beers with the best prices, selection and service at America’s Wine Superstore. Shop online for delivery or in-store pick up.</td>\n",
       "                         </tr>\n",
       "<tr>\n",
       "                           <td><a href=\"http://www.foodandwine.com/wine\">Wine Recipes, Guides, Bars &amp; Ideas | Food &amp; Wine</a></td>\n",
       "                           <td>Looking for the best wines? Find the best wine recommendations, ideas and news on Food &amp; Wine.</td>\n",
       "                         </tr>\n",
       "<tr>\n",
       "                           <td><a href=\"http://www.winespectator.com/\"><b>Wine Spectator</b> - Official Site</a></td>\n",
       "                           <td>350,000+ expert wine ratings, with full reviews, including tasting notes, score, price and when to drink. Learn more, drink better: The essentials of wine, vintage ...</td>\n",
       "                         </tr>\n",
       "<tr>\n",
       "                           <td><a href=\"http://www.wines.com/\">Wines.com</a></td>\n",
       "                           <td>Wine Tasting Forums. Join the conversation on the WineBoard. It’s one of the richest sources of tasting notes and wine information on the web.</td>\n",
       "                         </tr>\n",
       "<tr>\n",
       "                           <td><a href=\"https://www.woot.com/category/wine\">Gourmet Deals | Woot</a></td>\n",
       "                           <td>Wine Line Random Accessory 15-Pack. Either get on the wine line or get in the wine line, depending on where you&#39;re from.</td>\n",
       "                         </tr>\n",
       "<tr>\n",
       "                           <td><a href=\"https://en.wikipedia.org/wiki/Wine_(software)\">Wine (software) - Wikipedia</a></td>\n",
       "                           <td>Wine (recursive backronym for Wine Is Not an Emulator) is a free and open-source compatibility layer that aims to allow computer programs (application software and ...</td>\n",
       "                         </tr>\n",
       "<tr>\n",
       "                           <td><a href=\"https://www.huffingtonpost.com/topic/wine\">Wine | HuffPost</a></td>\n",
       "                           <td>Wine news and opinion ... Tap here to turn on desktop notifications to get the news sent straight to you.</td>\n",
       "                         </tr></table>"
      ],
      "text/plain": [
       "<IPython.core.display.HTML object>"
      ]
     },
     "execution_count": 8,
     "metadata": {},
     "output_type": "execute_result"
    }
   ],
   "source": [
    "search_results = speech.get_search_results(keywords[3])\n",
    "search_results"
   ]
  },
  {
   "cell_type": "code",
   "execution_count": null,
   "metadata": {},
   "outputs": [],
   "source": []
  }
 ],
 "metadata": {
  "kernelspec": {
   "display_name": "Python 3",
   "language": "python",
   "name": "python3"
  },
  "language_info": {
   "codemirror_mode": {
    "name": "ipython",
    "version": 3
   },
   "file_extension": ".py",
   "mimetype": "text/x-python",
   "name": "python",
   "nbconvert_exporter": "python",
   "pygments_lexer": "ipython3",
   "version": "3.6.4"
  }
 },
 "nbformat": 4,
 "nbformat_minor": 2
}
