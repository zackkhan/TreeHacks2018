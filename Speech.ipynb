{
 "cells": [
  {
   "cell_type": "code",
   "execution_count": 1,
   "metadata": {},
   "outputs": [],
   "source": [
    "%matplotlib inline"
   ]
  },
  {
   "cell_type": "code",
   "execution_count": 12,
   "metadata": {},
   "outputs": [],
   "source": [
    "import matplotlib.pyplot as plt\n",
    "import numpy as np\n",
    "import requests\n",
    "import speech_recognition as sr\n",
    "from io import BytesIO\n",
    "from matplotlib import patches\n",
    "from os import path\n",
    "from PIL import Image\n",
    "from pprint import pprint\n",
    "from IPython.display import HTML"
   ]
  },
  {
   "cell_type": "code",
   "execution_count": 18,
   "metadata": {},
   "outputs": [],
   "source": [
    "class Speech:\n",
    "    def emotions_from_image(self, image_path):\n",
    "        headers = {\n",
    "            'Ocp-Apim-Subscription-Key': self.kEMOTION_KEY,\n",
    "            'Content-type': 'application/octet-stream'\n",
    "        }\n",
    "        params = {\n",
    "            'returnFaceId': 'true',\n",
    "            'returnFaceLandmarks': 'false',\n",
    "            'returnFaceAttributes': 'headPose,emotion',\n",
    "        }\n",
    "        with open(image_path, 'rb') as f:\n",
    "            img_data = f.read()\n",
    "        response = requests.post(self.kEMOTION_URL, params=params, headers=headers, data=img_data)\n",
    "        faces = response.json()\n",
    "        fr = faces[0][\"faceRectangle\"]\n",
    "        fa = faces[0][\"faceAttributes\"]\n",
    "        headPose = fa[\"headPose\"]\n",
    "        emotions = fa[\"emotion\"]\n",
    "        emotion = max(emotions, key=lambda key: emotions[key])\n",
    "        return emotion, headPose\n",
    "    \n",
    "    \n",
    "    def speech_to_text(self, file_path):\n",
    "        audio_file = path.join(path.dirname(path.realpath('__file__')), file_path)\n",
    "        r = sr.Recognizer()\n",
    "        with sr.AudioFile(file_path) as source:\n",
    "            audio = r.record(source)\n",
    "        try:\n",
    "            raw_text = r.recognize_bing(audio, key=self.kSPEECH_TO_TEXT_KEY)\n",
    "            document = {'documents' : [\n",
    "              {'id': '1', 'language': 'en', 'text': raw_text}\n",
    "            ]}\n",
    "            return document\n",
    "        except sr.UnknownValueError:\n",
    "            return(\"Microsoft Bing Voice Recognition could not understand audio\")\n",
    "        except sr.RequestError as e:\n",
    "            return(\"Could not request results from Microsoft Bing Voice Recognition service; {0}\".format(e))\n",
    "\n",
    "\n",
    "    def extract_sentiment(self, text):\n",
    "        headers   = {\"Ocp-Apim-Subscription-Key\": self.kTEXT_ANALYSIS_KEY}\n",
    "        response  = requests.post(self.kSENTIMENT_URL, headers=headers, json=text)\n",
    "        sentiments = response.json()\n",
    "        return sentiments['documents'][0]['score']\n",
    "\n",
    "\n",
    "    def extract_keywords(self, text):\n",
    "        headers   = {\"Ocp-Apim-Subscription-Key\": self.kTEXT_ANALYSIS_KEY}\n",
    "        response  = requests.post(self.kKEY_PHRASE_URL, headers=headers, json=text)\n",
    "        key_phrases = response.json()\n",
    "        return key_phrases['documents'][0]['keyPhrases']\n",
    "\n",
    "\n",
    "    def get_search_results(self, search_term):\n",
    "        headers = {\"Ocp-Apim-Subscription-Key\" : self.kSEARCH_KEY}\n",
    "        params  = {\"q\": search_term, \"textDecorations\":True, \"textFormat\":\"HTML\"}\n",
    "        response = requests.get(self.kSEARCH_URL, headers=headers, params=params)\n",
    "        response.raise_for_status()\n",
    "        search_results = response.json()\n",
    "        results = {}\n",
    "        results[search_term] = []\n",
    "        i = 0\n",
    "        for v in search_results[\"webPages\"][\"value\"]:\n",
    "            if i >= 2:\n",
    "                return results\n",
    "            result = {}\n",
    "            result[\"url\"] = v[\"url\"]\n",
    "            result[\"name\"] = v[\"name\"]\n",
    "            result[\"snippet\"] = v[\"snippet\"]\n",
    "            results[search_term].append(result)\n",
    "            i+=1\n",
    "        return results\n",
    "\n",
    "    \n",
    "    def __init__(self):\n",
    "        # Face API\n",
    "        self.kEMOTION_KEY = \"34162b79f80a44f58c6629a083929c15\"\n",
    "        self.kEMOTION_URL = 'https://westus.api.cognitive.microsoft.com/face/v1.0/detect'\n",
    "        # Speech to Text API\n",
    "        self.kSPEECH_TO_TEXT_KEY = \"2ed41467970e4791bec9a48388bb416e\"\n",
    "        # Text Analysis API\n",
    "        self.kTEXT_ANALYSIS_KEY = \"e552bd5890934ed595dbf8d7fd05816f\"\n",
    "        text_analytics_base_url = \"https://westus.api.cognitive.microsoft.com/text/analytics/v2.0/\"\n",
    "        self.kSENTIMENT_URL = text_analytics_base_url + \"sentiment\"\n",
    "        self.kKEY_PHRASE_URL = text_analytics_base_url + \"keyPhrases\"\n",
    "        # Bing Web API\n",
    "        self.kSEARCH_KEY = \"9db3ddee989743f48b738680d30c5bab\"\n",
    "        self.kSEARCH_URL = \"https://api.cognitive.microsoft.com/bing/v7.0/search/\""
   ]
  },
  {
   "cell_type": "code",
   "execution_count": 19,
   "metadata": {},
   "outputs": [
    {
     "name": "stdout",
     "output_type": "stream",
     "text": [
      "happiness\n",
      "{'pitch': 0.0, 'roll': -0.2, 'yaw': -0.8}\n"
     ]
    }
   ],
   "source": [
    "speech = Speech()\n",
    "emotion, headPose = speech.emotions_from_image(\"main002.jpg\")\n",
    "print(emotion)\n",
    "print(headPose)"
   ]
  },
  {
   "cell_type": "code",
   "execution_count": 20,
   "metadata": {},
   "outputs": [
    {
     "name": "stdout",
     "output_type": "stream",
     "text": [
      "{'documents': [{'id': '1', 'language': 'en', 'text': \"The big argument I had with the governor on this is this taking different positions on different issues trying to be one thing to one person here that supposing the nafta agreement and then for it but we call waffle ING you can't turn the White House and the Waffle House you gotta say what your for the Washington post along at the curb they said they couldn't believe Mr. bush with making character an issue and they said he was the greatest quote political should be leaving for changing his positions of all time now I don't wanna get into that way Washington.\"}]}\n"
     ]
    }
   ],
   "source": [
    "text = speech.speech_to_text(file_path='bush-clinton_debate_waffle.wav')\n",
    "print(text)"
   ]
  },
  {
   "cell_type": "code",
   "execution_count": 21,
   "metadata": {},
   "outputs": [
    {
     "name": "stdout",
     "output_type": "stream",
     "text": [
      "0.22525662183761597\n"
     ]
    }
   ],
   "source": [
    "sentiment = speech.extract_sentiment(text)\n",
    "print(sentiment)"
   ]
  },
  {
   "cell_type": "code",
   "execution_count": 22,
   "metadata": {},
   "outputs": [
    {
     "name": "stdout",
     "output_type": "stream",
     "text": [
      "['Waffle House', 'different positions', 'White House', 'different issues', 'waffle ING', 'Washington post', 'way Washington', 'gotta', 'person', 'wanna', 'governor', 'thing', 'bush', 'character', 'greatest quote political', 'nafta agreement', 'big argument', 'curb', 'time']\n"
     ]
    }
   ],
   "source": [
    "keywords = speech.extract_keywords(text)\n",
    "print(keywords)"
   ]
  },
  {
   "cell_type": "code",
   "execution_count": 23,
   "metadata": {},
   "outputs": [
    {
     "data": {
      "text/plain": [
       "{'different issues': [{'name': '<b>List of environmental issues</b> - <b>Wikipedia</b>',\n",
       "   'snippet': 'This is an alphabetical list of environmental <b>issues</b>, harmful aspects of human activity on the biophysical environment. As such, they relate to the anthropogenic ...',\n",
       "   'url': 'https://en.wikipedia.org/wiki/List_of_environmental_issues'},\n",
       "  {'name': '4 Ways to <b>Deal With Different Problems in Life</b> - <b>wikiHow</b>',\n",
       "   'snippet': 'How to Deal With <b>Different Problems</b> in Life. Money, relationships, family, health, school, careers. <b>Problems</b> can and will pop up in nearly every area of life. The ...',\n",
       "   'url': 'https://www.wikihow.com/Deal-With-Different-Problems-in-Life'}]}"
      ]
     },
     "execution_count": 23,
     "metadata": {},
     "output_type": "execute_result"
    }
   ],
   "source": [
    "search_results = speech.get_search_results(keywords[3])\n",
    "search_results"
   ]
  },
  {
   "cell_type": "code",
   "execution_count": null,
   "metadata": {},
   "outputs": [],
   "source": []
  },
  {
   "cell_type": "code",
   "execution_count": null,
   "metadata": {},
   "outputs": [],
   "source": []
  }
 ],
 "metadata": {
  "kernelspec": {
   "display_name": "Python 3",
   "language": "python",
   "name": "python3"
  },
  "language_info": {
   "codemirror_mode": {
    "name": "ipython",
    "version": 3
   },
   "file_extension": ".py",
   "mimetype": "text/x-python",
   "name": "python",
   "nbconvert_exporter": "python",
   "pygments_lexer": "ipython3",
   "version": "3.6.4"
  }
 },
 "nbformat": 4,
 "nbformat_minor": 2
}
