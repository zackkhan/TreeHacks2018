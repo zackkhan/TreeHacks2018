{
 "cells": [
  {
   "cell_type": "code",
   "execution_count": 1,
   "metadata": {},
   "outputs": [],
   "source": [
    "%matplotlib inline"
   ]
  },
  {
   "cell_type": "code",
   "execution_count": 2,
   "metadata": {},
   "outputs": [],
   "source": [
    "import requests\n",
    "import speech_recognition as sr\n",
    "from os import path\n",
    "from pprint import pprint"
   ]
  },
  {
   "cell_type": "code",
   "execution_count": 3,
   "metadata": {},
   "outputs": [],
   "source": [
    "subscription_key = \"e552bd5890934ed595dbf8d7fd05816f\"\n",
    "assert subscription_key\n",
    "speech_to_text_key = \"2ed41467970e4791bec9a48388bb416e\"\n",
    "assert speech_to_text_key\n",
    "text_analytics_base_url = \"https://westus.api.cognitive.microsoft.com/text/analytics/v2.0/\"\n",
    "language_api_url = text_analytics_base_url + \"languages\"\n",
    "sentiment_api_url = text_analytics_base_url + \"sentiment\"\n",
    "key_phrase_api_url = text_analytics_base_url + \"keyPhrases\""
   ]
  },
  {
   "cell_type": "code",
   "execution_count": 4,
   "metadata": {},
   "outputs": [],
   "source": [
    "def extract_text_from_audio(audio_path):\n",
    "    audio_file = path.join(path.dirname(path.realpath('__file__')), audio_path)\n",
    "    r = sr.Recognizer()\n",
    "    with sr.AudioFile(audio_file) as source:\n",
    "        audio = r.record(source)\n",
    "    try:\n",
    "        raw_text = r.recognize_bing(audio, key=speech_to_text_key)\n",
    "        document = {'documents' : [\n",
    "          {'id': '1', 'language': 'en', 'text': raw_text}\n",
    "        ]}\n",
    "        return(document)\n",
    "    except sr.UnknownValueError:\n",
    "        return(\"Microsoft Bing Voice Recognition could not understand audio\")\n",
    "    except sr.RequestError as e:\n",
    "        return(\"Could not request results from Microsoft Bing Voice Recognition service; {0}\".format(e))"
   ]
  },
  {
   "cell_type": "code",
   "execution_count": 5,
   "metadata": {},
   "outputs": [],
   "source": [
    "def get_sentiment(document):\n",
    "    headers   = {\"Ocp-Apim-Subscription-Key\": subscription_key}\n",
    "    response  = requests.post(sentiment_api_url, headers=headers, json=document)\n",
    "    sentiments = response.json()\n",
    "    return(sentiments['documents'][0]['score'])"
   ]
  },
  {
   "cell_type": "code",
   "execution_count": 6,
   "metadata": {},
   "outputs": [],
   "source": [
    "def get_keywords(document):\n",
    "    headers   = {\"Ocp-Apim-Subscription-Key\": subscription_key}\n",
    "    response  = requests.post(key_phrase_api_url, headers=headers, json=document)\n",
    "    key_phrases = response.json()\n",
    "    return(key_phrases['documents'][0]['keyPhrases'])"
   ]
  },
  {
   "cell_type": "code",
   "execution_count": 7,
   "metadata": {},
   "outputs": [
    {
     "name": "stdout",
     "output_type": "stream",
     "text": [
      "{'documents': [{'id': '1', 'language': 'en', 'text': 'Every word and phrase he speaks is true he put his last cartridge into the gun and fired they took their kids from the public school drive the screws straight into the would keep the hatch tight in the watch constant several that wine with a quick snip of the knife paper will dry out when wet slide the catch back and open the desk help the week to preserve their strength they selling smile get you friends.'}]}\n"
     ]
    }
   ],
   "source": [
    "document = extract_text_from_audio(audio_path='sample.wav')\n",
    "print(document)"
   ]
  },
  {
   "cell_type": "code",
   "execution_count": 8,
   "metadata": {},
   "outputs": [
    {
     "name": "stdout",
     "output_type": "stream",
     "text": [
      "0.8571277856826782\n",
      "['watch constant', 'knife paper', 'quick snip', 'wine', 'wet slide', 'strength', 'kids', 'public school', 'catch', 'hatch tight', 'word', 'phrase', 'smile', 'friends', 'cartridge', 'week']\n"
     ]
    }
   ],
   "source": [
    "print(get_sentiment(document))\n",
    "print(get_keywords(document))"
   ]
  },
  {
   "cell_type": "code",
   "execution_count": null,
   "metadata": {},
   "outputs": [],
   "source": []
  },
  {
   "cell_type": "code",
   "execution_count": null,
   "metadata": {},
   "outputs": [],
   "source": []
  }
 ],
 "metadata": {
  "kernelspec": {
   "display_name": "Python 3",
   "language": "python",
   "name": "python3"
  },
  "language_info": {
   "codemirror_mode": {
    "name": "ipython",
    "version": 3
   },
   "file_extension": ".py",
   "mimetype": "text/x-python",
   "name": "python",
   "nbconvert_exporter": "python",
   "pygments_lexer": "ipython3",
   "version": "3.6.4"
  }
 },
 "nbformat": 4,
 "nbformat_minor": 2
}
