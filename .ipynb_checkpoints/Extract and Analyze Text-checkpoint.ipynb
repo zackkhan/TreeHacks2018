{
 "cells": [
  {
   "cell_type": "code",
   "execution_count": 1,
   "metadata": {},
   "outputs": [],
   "source": [
    "%matplotlib inline"
   ]
  },
  {
   "cell_type": "code",
   "execution_count": 2,
   "metadata": {},
   "outputs": [],
   "source": [
    "import requests\n",
    "import speech_recognition as sr\n",
    "from os import path\n",
    "from pprint import pprint\n",
    "from IPython.display import HTML"
   ]
  },
  {
   "cell_type": "code",
   "execution_count": 13,
   "metadata": {},
   "outputs": [],
   "source": [
    "sentiment_subscription_key = \"e552bd5890934ed595dbf8d7fd05816f\"\n",
    "speech_to_text_key = \"2ed41467970e4791bec9a48388bb416e\"\n",
    "search_subscription_key = \"9db3ddee989743f48b738680d30c5bab\"\n",
    "text_analytics_base_url = \"https://westus.api.cognitive.microsoft.com/text/analytics/v2.0/\"\n",
    "language_api_url = text_analytics_base_url + \"languages\"\n",
    "sentiment_api_url = text_analytics_base_url + \"sentiment\"\n",
    "key_phrase_api_url = text_analytics_base_url + \"keyPhrases\"\n",
    "search_url = \"https://api.cognitive.microsoft.com/bing/v7.0/search/\""
   ]
  },
  {
   "cell_type": "code",
   "execution_count": 4,
   "metadata": {},
   "outputs": [],
   "source": [
    "def extract_text_from_audio(audio_path):\n",
    "    audio_file = path.join(path.dirname(path.realpath('__file__')), audio_path)\n",
    "    r = sr.Recognizer()\n",
    "    with sr.AudioFile(audio_file) as source:\n",
    "        audio = r.record(source)\n",
    "    try:\n",
    "        raw_text = r.recognize_bing(audio, key=speech_to_text_key)\n",
    "        document = {'documents' : [\n",
    "          {'id': '1', 'language': 'en', 'text': raw_text}\n",
    "        ]}\n",
    "        return(document)\n",
    "    except sr.UnknownValueError:\n",
    "        return(\"Microsoft Bing Voice Recognition could not understand audio\")\n",
    "    except sr.RequestError as e:\n",
    "        return(\"Could not request results from Microsoft Bing Voice Recognition service; {0}\".format(e))"
   ]
  },
  {
   "cell_type": "code",
   "execution_count": 5,
   "metadata": {},
   "outputs": [],
   "source": [
    "def get_sentiment(document):\n",
    "    headers   = {\"Ocp-Apim-Subscription-Key\": sentiment_subscription_key}\n",
    "    response  = requests.post(sentiment_api_url, headers=headers, json=document)\n",
    "    sentiments = response.json()\n",
    "    return(sentiments['documents'][0]['score'])"
   ]
  },
  {
   "cell_type": "code",
   "execution_count": 6,
   "metadata": {},
   "outputs": [],
   "source": [
    "def get_keywords(document):\n",
    "    headers   = {\"Ocp-Apim-Subscription-Key\": sentiment_subscription_key}\n",
    "    response  = requests.post(key_phrase_api_url, headers=headers, json=document)\n",
    "    key_phrases = response.json()\n",
    "    return(key_phrases['documents'][0]['keyPhrases'])"
   ]
  },
  {
   "cell_type": "code",
   "execution_count": 7,
   "metadata": {},
   "outputs": [
    {
     "name": "stdout",
     "output_type": "stream",
     "text": [
      "{'documents': [{'id': '1', 'language': 'en', 'text': 'Every word and phrase he speaks is true he put his last cartridge into the gun and fired they took their kids from the public school drive the screws straight into the would keep the hatch tight in the watch constant several that wine with a quick snip of the knife paper will dry out when wet slide the catch back and open the desk help the week to preserve their strength they selling smile get you friends.'}]}\n"
     ]
    }
   ],
   "source": [
    "document = extract_text_from_audio(audio_path='sample.wav')\n",
    "print(document)"
   ]
  },
  {
   "cell_type": "code",
   "execution_count": 8,
   "metadata": {},
   "outputs": [
    {
     "name": "stdout",
     "output_type": "stream",
     "text": [
      "0.8571277856826782\n",
      "['watch constant', 'knife paper', 'quick snip', 'wine', 'wet slide', 'strength', 'kids', 'public school', 'catch', 'hatch tight', 'word', 'phrase', 'smile', 'friends', 'cartridge', 'week']\n"
     ]
    }
   ],
   "source": [
    "sentiment = get_sentiment(document)\n",
    "keywords = get_keywords(document)\n",
    "print(sentiment)\n",
    "print(keywords)"
   ]
  },
  {
   "cell_type": "code",
   "execution_count": 9,
   "metadata": {},
   "outputs": [],
   "source": [
    "def get_search_results(search_term):\n",
    "    headers = {\"Ocp-Apim-Subscription-Key\" : search_subscription_key}\n",
    "    params  = {\"q\": search_term, \"textDecorations\":True, \"textFormat\":\"HTML\"}\n",
    "    response = requests.get(search_url, headers=headers, params=params)\n",
    "    response.raise_for_status()\n",
    "    search_results = response.json()\n",
    "    rows = \"\\n\".join([\"\"\"<tr>\n",
    "                       <td><a href=\\\"{0}\\\">{1}</a></td>\n",
    "                       <td>{2}</td>\n",
    "                     </tr>\"\"\".format(v[\"url\"],v[\"name\"],v[\"snippet\"]) for v in search_results[\"webPages\"][\"value\"]])\n",
    "    return HTML(\"<table>{0}</table>\".format(rows))"
   ]
  },
  {
   "cell_type": "code",
   "execution_count": 14,
   "metadata": {},
   "outputs": [
    {
     "data": {
      "text/html": [
       "<table><tr>\n",
       "                       <td><a href=\"https://www.amazon.com/Clothing-Shoes-Jewelry-Frederique-Constant/s?ie=UTF8&page=1&rh=n%3A7141123011%2Cp_4%3AFrederique%20Constant\">Amazon.com: <b>Frederique Constant: Clothing, Shoes &amp; Jewelry</b></a></td>\n",
       "                       <td>Frederique <b>Constant</b>. FC245M4S6 Men&#39;s Slim Line Analog Display Swiss Quartz <b>Watch</b>, Black $ 316 79 Prime. 4.8 out of 5 stars 19. ... shoes, jewelry, <b>watches</b>, and more.</td>\n",
       "                     </tr>\n",
       "<tr>\n",
       "                       <td><a href=\"http://www.tourneau.com/watches/brands/frederique-constant/\"><b>Frédérique Constant</b> <b>Watches</b> - Authorized Retailer - Tourneau</a></td>\n",
       "                       <td>Shop authorized Frédérique <b>Constant watch</b> retailer - w/ manufacturer warranty and 5-yr Tourneau warranty. Classics, Manufacture, Slimline &amp; more.</td>\n",
       "                     </tr>\n",
       "<tr>\n",
       "                       <td><a href=\"https://www.jomashop.com/frederique-constant-watches.html\"><b>Frederique Constant</b> <b>Watches</b> - <b>Jomashop</b></a></td>\n",
       "                       <td>Free shipping on all Frederique <b>Constant Watches</b> over $100. <b>Jomashop.com</b> features a huge selection of authentic Frederique <b>Constant Watches</b> at low prices.... - On Sale:</td>\n",
       "                     </tr>\n",
       "<tr>\n",
       "                       <td><a href=\"https://www.walmart.com/browse/jewelry/watches/frederique-constant/3891_3906/YnJhbmQ6RnJlZGVyaXF1ZSBDb25zdGFudAieie\"><b>Frederique Constant Watches</b> - Walmart.com</a></td>\n",
       "                       <td>Shop for Frederique <b>Constant Watches</b> in Jewelry. Buy products such as Frederique <b>Constant</b> Classics Men&#39;s <b>Watch</b>, FC-306MC4S35 at Walmart and save.</td>\n",
       "                     </tr>\n",
       "<tr>\n",
       "                       <td><a href=\"https://www.ashford.com/us/watches/commerce+root/all+brands/frederique+constant/cat2950860.cid\"><b>Frederique Constant</b> <b>watches</b> - Ashford.com</a></td>\n",
       "                       <td>Ashford Luxury <b>Watches</b>. <b>Watches</b> for sale at Ashford.com are shipped with a reputation for integrity and superiority in the world of luxury <b>watches</b>.</td>\n",
       "                     </tr>\n",
       "<tr>\n",
       "                       <td><a href=\"https://www.overstock.com/Jewelry-Watches/Watches/Frederique-Constant,/brand,/292/dept.html\"><b>Frederique Constant</b> <b>Watches</b> For Less | <b>Overstock</b>.com</a></td>\n",
       "                       <td>Frederique <b>Constant Watches</b> : Find top <b>watch</b> brands like Michael Kors, Rolex, Gucci, Citizen, Fossil, Coach, Omega, and more! Overstock.com - Get 5% in rewards with ...</td>\n",
       "                     </tr>\n",
       "<tr>\n",
       "                       <td><a href=\"http://www.gnomonwatches.com/watches/frederique-constant\"><b>Frederique Constant</b> - Gnomon <b>Watches</b></a></td>\n",
       "                       <td>At Gnomon <b>Watches</b> you&#39;ll find a huge range of German &amp; Swiss <b>watches</b> at leading price. Includes <b>Watches</b> : Archimede, Aristo, Aviation, Damasko, Dievas, Ennebi, Laco ...</td>\n",
       "                     </tr>\n",
       "<tr>\n",
       "                       <td><a href=\"https://www.ebay.com/sch/i.html?_nkw=frederique+constant+watch\"><b>frederique constant watch</b> | eBay</a></td>\n",
       "                       <td>Find great deals on eBay for frederique <b>constant watch</b> and raymond weil <b>watch</b>. Shop with confidence.</td>\n",
       "                     </tr>\n",
       "<tr>\n",
       "                       <td><a href=\"https://www.bloomingdales.com/buy/frederique-constant\"><b>Frederique Constant</b> | <b>Bloomingdale&#39;s</b></a></td>\n",
       "                       <td>FREDERIQUE <b>CONSTANT WATCHES</b>. Wear Frederique <b>Constant watches</b> as elegant adornments and statement pieces. In a world that expects more from a <b>watch</b> than just telling ...</td>\n",
       "                     </tr>\n",
       "<tr>\n",
       "                       <td><a href=\"https://en.wikipedia.org/wiki/Frederique_Constant\"><b>Frédérique Constant</b> - <b>Wikipedia</b></a></td>\n",
       "                       <td>Frédérique <b>Constant</b> SA is a manufacture of luxury wrist <b>watches</b> based in Plan-les-Ouates, Geneva. It was acquired in 2017 by Citizen Holdings of Tokyo, Japan. The ...</td>\n",
       "                     </tr></table>"
      ],
      "text/plain": [
       "<IPython.core.display.HTML object>"
      ]
     },
     "execution_count": 14,
     "metadata": {},
     "output_type": "execute_result"
    }
   ],
   "source": [
    "get_search_results(keywords[0])"
   ]
  },
  {
   "cell_type": "code",
   "execution_count": null,
   "metadata": {},
   "outputs": [],
   "source": []
  },
  {
   "cell_type": "code",
   "execution_count": null,
   "metadata": {},
   "outputs": [],
   "source": []
  }
 ],
 "metadata": {
  "kernelspec": {
   "display_name": "Python 3",
   "language": "python",
   "name": "python3"
  },
  "language_info": {
   "codemirror_mode": {
    "name": "ipython",
    "version": 3
   },
   "file_extension": ".py",
   "mimetype": "text/x-python",
   "name": "python",
   "nbconvert_exporter": "python",
   "pygments_lexer": "ipython3",
   "version": "3.6.4"
  }
 },
 "nbformat": 4,
 "nbformat_minor": 2
}
