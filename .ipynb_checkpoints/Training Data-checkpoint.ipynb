{
 "cells": [
  {
   "cell_type": "code",
   "execution_count": 24,
   "metadata": {},
   "outputs": [],
   "source": [
    "import numpy as np\n",
    "import random\n",
    "import pandas as pd\n",
    "import urllib.request as urllib2 # urllib.request for Python 3.X\n",
    "import json"
   ]
  },
  {
   "cell_type": "markdown",
   "metadata": {},
   "source": [
    "# Features\n",
    "\n",
    "- Volume: 0.0-1.0\n",
    "- Average sentiment:\n",
    "- % ['anger', 'contempt', 'disgust', 'fear', 'happiness', 'neutral', 'sadness', 'surprise']:\n",
    "- Average yaw: \n",
    "- Average pitch:\n",
    "- Average roll:"
   ]
  },
  {
   "cell_type": "markdown",
   "metadata": {},
   "source": [
    "## Positive Examples"
   ]
  },
  {
   "cell_type": "code",
   "execution_count": 10,
   "metadata": {},
   "outputs": [],
   "source": [
    "volume = [random.uniform(0.3, 0.5) for x in range(0,30)]\n",
    "sentiment = [random.uniform(0.5, 0.95) for x in range(0,30)]\n",
    "yaw = [y if random.random() < 0.5 else -y for y in np.random.standard_normal(30)*2]\n",
    "pitch = [y if random.random() < 0.5 else -y for y in np.random.standard_normal(30)*2]\n",
    "roll = [y if random.random() < 0.5 else -y for y in np.random.standard_normal(30)*2]\n",
    "neutral = [random.uniform(0.3, 0.6) for x in range(0,30)]\n",
    "happiness = [random.uniform(0.3, 1-x) for x in neutral]\n",
    "sadness = [random.uniform(0.01, 1-x-y) for x,y in zip(neutral,happiness)]\n",
    "label = [1 for i in range(30)]"
   ]
  },
  {
   "cell_type": "code",
   "execution_count": 11,
   "metadata": {},
   "outputs": [],
   "source": [
    "columns = ['Average Volume', 'Average Sentiment', 'Average Yaw', 'Average Roll', \\\n",
    "           'Average Pitch', 'Average Neutral', 'Average Happiness', 'Average Sadness', 'Label']\n",
    "lists = [volume, sentiment, yaw, roll, pitch, neutral, happiness, sadness, label]\n",
    "pos_features = pd.DataFrame(np.column_stack(lists), columns=columns)\n",
    "pos_features.head()\n",
    "pos_features.to_csv('pos_features.csv', sep='\\t')"
   ]
  },
  {
   "cell_type": "markdown",
   "metadata": {},
   "source": [
    "## Negative Examples"
   ]
  },
  {
   "cell_type": "code",
   "execution_count": 12,
   "metadata": {},
   "outputs": [],
   "source": [
    "volume = [random.uniform(0.0, 0.3) for x in range(0,20)]\n",
    "sentiment = [random.uniform(0.1, 0.49) for x in range(0,20)]\n",
    "yaw = [y if random.random() < 0.5 else -y for y in np.random.standard_normal(20)+5]\n",
    "pitch = [y if random.random() < 0.5 else -y for y in np.random.standard_normal(20)+5]\n",
    "roll = [y if random.random() < 0.5 else -y for y in np.random.standard_normal(20)+5]\n",
    "neutral = [random.uniform(0.5, 0.9) for x in range(0,20)]\n",
    "happiness = [random.uniform(0.05, 1-x) for x in neutral]\n",
    "sadness = [random.uniform(0.00, 1-x-y) for x,y in zip(neutral,happiness)]\n",
    "label = [0 for i in range(20)]"
   ]
  },
  {
   "cell_type": "code",
   "execution_count": 13,
   "metadata": {},
   "outputs": [],
   "source": [
    "columns = ['Average Volume', 'Average Sentiment', 'Average Yaw', 'Average Roll', \\\n",
    "           'Average Pitch', 'Average Neutral', 'Average Happiness', 'Average Sadness', 'Label']\n",
    "lists = [volume, sentiment, yaw, roll, pitch, neutral, happiness, sadness, label]\n",
    "neg_features = pd.DataFrame(np.column_stack(lists), columns=columns)\n",
    "neg_features.head()\n",
    "neg_features.to_csv('neg_features.csv', sep='\\t')"
   ]
  },
  {
   "cell_type": "code",
   "execution_count": 16,
   "metadata": {},
   "outputs": [],
   "source": [
    "frames = [pos_features, neg_features]\n",
    "df = pd.concat(frames)"
   ]
  },
  {
   "cell_type": "code",
   "execution_count": 17,
   "metadata": {},
   "outputs": [],
   "source": [
    "df = df.sample(frac=1).reset_index(drop=True)"
   ]
  },
  {
   "cell_type": "code",
   "execution_count": 22,
   "metadata": {},
   "outputs": [],
   "source": [
    "df.to_csv('training_data.csv', sep=',', index=False)"
   ]
  },
  {
   "cell_type": "code",
   "execution_count": 25,
   "metadata": {},
   "outputs": [],
   "source": [
    "api_key = '0AbKm50lX3ubuDx6clFnViJZLNh6M6HznTQNHSNwTN6+FxdnjNYsNWv6ZA/n9goNXqZ2Ogwqz2HsWd1t+qZ8Og=='\n",
    "headers = {'Content-Type':'application/json', 'Authorization':('Bearer '+ api_key)}"
   ]
  },
  {
   "cell_type": "code",
   "execution_count": null,
   "metadata": {},
   "outputs": [],
   "source": []
  }
 ],
 "metadata": {
  "kernelspec": {
   "display_name": "Python 3",
   "language": "python",
   "name": "python3"
  },
  "language_info": {
   "codemirror_mode": {
    "name": "ipython",
    "version": 3
   },
   "file_extension": ".py",
   "mimetype": "text/x-python",
   "name": "python",
   "nbconvert_exporter": "python",
   "pygments_lexer": "ipython3",
   "version": "3.6.4"
  }
 },
 "nbformat": 4,
 "nbformat_minor": 2
}
